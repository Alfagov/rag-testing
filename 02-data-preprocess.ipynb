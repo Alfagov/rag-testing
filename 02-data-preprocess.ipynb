{
 "cells": [
  {
   "cell_type": "code",
   "execution_count": 1,
   "metadata": {
    "ExecuteTime": {
     "end_time": "2024-02-10T15:45:50.672398576Z",
     "start_time": "2024-02-10T15:45:48.223022473Z"
    }
   },
   "outputs": [],
   "source": [
    "from llama_index import SimpleDirectoryReader\n",
    "from llama_index.ingestion import IngestionPipeline\n",
    "from llama_index.node_parser import CodeSplitter, TokenTextSplitter, MarkdownNodeParser\n",
    "from llama_index.extractors import TitleExtractor, QuestionsAnsweredExtractor, EntityExtractor\n",
    "from setup_llm import load_llm"
   ]
  },
  {
   "cell_type": "code",
   "execution_count": 2,
   "metadata": {},
   "outputs": [
    {
     "name": "stdout",
     "output_type": "stream",
     "text": [
      "Loaded 53 documents\n",
      "Loaded 2 documents\n"
     ]
    }
   ],
   "source": [
    "# Load raw data from directory\n",
    "code_documents = SimpleDirectoryReader(\n",
    "    input_dir=\"./input\",\n",
    "    required_exts=[\".go\", \".mod\"],\n",
    "    recursive=True,\n",
    ").load_data()\n",
    "\n",
    "md_documents = SimpleDirectoryReader(\n",
    "    input_dir=\"./data\",\n",
    "    required_exts=[\".md\"],\n",
    "    recursive=True,\n",
    ").load_data()\n",
    "\n",
    "print(f\"Loaded {len(code_documents)} documents\")\n",
    "print(f\"Loaded {len(md_documents)} documents\")"
   ]
  },
  {
   "cell_type": "code",
   "execution_count": 4,
   "metadata": {},
   "outputs": [],
   "source": [
    "# Create parser for code and txt\n",
    "code_parser = CodeSplitter.from_defaults(\n",
    "    language=\"go\",\n",
    ")\n",
    "\n",
    "md_parser = MarkdownNodeParser.from_defaults()"
   ]
  },
  {
   "cell_type": "code",
   "execution_count": 2,
   "metadata": {},
   "outputs": [
    {
     "name": "stderr",
     "output_type": "stream",
     "text": [
      "Loading checkpoint shards: 100%|██████████| 8/8 [00:06<00:00,  1.30it/s]\n"
     ]
    }
   ],
   "source": [
    "llm = load_llm()"
   ]
  },
  {
   "cell_type": "code",
   "execution_count": 5,
   "metadata": {},
   "outputs": [],
   "source": [
    "# Define the metadata extractors\n",
    "title_extractor = TitleExtractor(llm=llm)\n",
    "qa_extractor = QuestionsAnsweredExtractor(llm=llm, questions=3)\n",
    "en_extractor = EntityExtractor()"
   ]
  },
  {
   "cell_type": "code",
   "execution_count": 6,
   "metadata": {},
   "outputs": [],
   "source": [
    "# Define the ingestion pipeline\n",
    "pipeline_code = IngestionPipeline(\n",
    "    transformations=[code_parser, title_extractor,  en_extractor],\n",
    ")\n",
    "\n",
    "pipeline_txt = IngestionPipeline(\n",
    "    transformations=[md_parser, title_extractor, qa_extractor, en_extractor],\n",
    ")"
   ]
  },
  {
   "cell_type": "code",
   "execution_count": null,
   "metadata": {},
   "outputs": [],
   "source": [
    "\n",
    "nodes_code = pipeline_code.run(\n",
    "    documents=code_documents,\n",
    "    in_place=True,\n",
    "    show_progress=True,\n",
    ")\n",
    "nodes_txt = pipeline_txt.run(\n",
    "    documents=md_documents,\n",
    "    in_place=True,\n",
    "    show_progress=True,\n",
    ")\n"
   ]
  },
  {
   "cell_type": "code",
   "execution_count": null,
   "metadata": {
    "collapsed": false,
    "jupyter": {
     "outputs_hidden": false
    }
   },
   "outputs": [],
   "source": [
    "import pickle\n",
    "\n",
    "pickle.dump(nodes_code, open(\"./preproc_nodes/fiber_nodes_code.pkl\", \"wb\"))\n",
    "pickle.dump(nodes_txt, open(\"./preproc_nodes/fiber_nodes_txt.pkl\", \"wb\"))"
   ]
  },
  {
   "cell_type": "code",
   "execution_count": 5,
   "metadata": {},
   "outputs": [
    {
     "name": "stderr",
     "output_type": "stream",
     "text": [
      "config.json: 100%|██████████| 779/779 [00:00<00:00, 5.94MB/s]\n",
      "model.safetensors: 100%|██████████| 1.34G/1.34G [00:13<00:00, 96.7MB/s]\n",
      "tokenizer_config.json: 100%|██████████| 366/366 [00:00<00:00, 4.28MB/s]\n",
      "vocab.txt: 100%|██████████| 232k/232k [00:00<00:00, 1.15MB/s]\n",
      "tokenizer.json: 100%|██████████| 711k/711k [00:00<00:00, 1.77MB/s]\n",
      "special_tokens_map.json: 100%|██████████| 125/125 [00:00<00:00, 671kB/s]\n"
     ]
    },
    {
     "ename": "NameError",
     "evalue": "name 'nodes_code' is not defined",
     "output_type": "error",
     "traceback": [
      "\u001b[0;31m---------------------------------------------------------------------------\u001b[0m",
      "\u001b[0;31mNameError\u001b[0m                                 Traceback (most recent call last)",
      "Cell \u001b[0;32mIn[5], line 16\u001b[0m\n\u001b[1;32m      9\u001b[0m auto_merging_context_t \u001b[38;5;241m=\u001b[39m ServiceContext\u001b[38;5;241m.\u001b[39mfrom_defaults(\n\u001b[1;32m     10\u001b[0m     llm\u001b[38;5;241m=\u001b[39mllm,\n\u001b[1;32m     11\u001b[0m     embed_model\u001b[38;5;241m=\u001b[39m\u001b[38;5;124m\"\u001b[39m\u001b[38;5;124mlocal:BAAI/bge-large-en-v1.5\u001b[39m\u001b[38;5;124m\"\u001b[39m,\n\u001b[1;32m     12\u001b[0m     node_parser\u001b[38;5;241m=\u001b[39mtxt_parser,\n\u001b[1;32m     13\u001b[0m )\n\u001b[1;32m     15\u001b[0m storage_context_c \u001b[38;5;241m=\u001b[39m StorageContext\u001b[38;5;241m.\u001b[39mfrom_defaults()\n\u001b[0;32m---> 16\u001b[0m storage_context_c\u001b[38;5;241m.\u001b[39mdocstore\u001b[38;5;241m.\u001b[39madd_documents(\u001b[43mnodes_code\u001b[49m)\n\u001b[1;32m     18\u001b[0m storage_context_t \u001b[38;5;241m=\u001b[39m StorageContext\u001b[38;5;241m.\u001b[39mfrom_defaults()\n\u001b[1;32m     19\u001b[0m storage_context_t\u001b[38;5;241m.\u001b[39mdocstore\u001b[38;5;241m.\u001b[39madd_documents(nodes_txt)\n",
      "\u001b[0;31mNameError\u001b[0m: name 'nodes_code' is not defined"
     ]
    }
   ],
   "source": [
    "from llama_index import ServiceContext, VectorStoreIndex, StorageContext\n",
    "\n",
    "auto_merging_context_c = ServiceContext.from_defaults(\n",
    "    llm=llm,\n",
    "    embed_model=\"local:BAAI/bge-small-en-v1.5\",\n",
    "    node_parser=code_parser,\n",
    ")\n",
    "\n",
    "auto_merging_context_t = ServiceContext.from_defaults(\n",
    "    llm=llm,\n",
    "    embed_model=\"local:BAAI/bge-small-en-v1.5\",\n",
    "    node_parser=md_parser,\n",
    ")\n",
    "\n",
    "storage_context_c = StorageContext.from_defaults()\n",
    "storage_context_c.docstore.add_documents(nodes_code)\n",
    "\n",
    "storage_context_t = StorageContext.from_defaults()\n",
    "storage_context_t.docstore.add_documents(nodes_txt)\n",
    "\n",
    "automerging_index = VectorStoreIndex(\n",
    "    nodes=nodes_code,\n",
    "    storage_context=storage_context_c,\n",
    "    service_context=auto_merging_context_c,\n",
    ")\n",
    "\n",
    "automerging_index_t = VectorStoreIndex(\n",
    "    nodes=nodes_txt,\n",
    "    storage_context=storage_context_t,\n",
    "    service_context=auto_merging_context_t,\n",
    ")\n",
    "\n",
    "automerging_index.storage_context.persist(persist_dir=\"./preproc_data/fiber_merging_index_c\")\n",
    "automerging_index_t.storage_context.persist(persist_dir=\"./preproc_data/fiber_merging_index_t\")"
   ]
  },
  {
   "cell_type": "code",
   "execution_count": null,
   "metadata": {},
   "outputs": [],
   "source": []
  }
 ],
 "metadata": {
  "kernelspec": {
   "display_name": "Python 3 (ipykernel)",
   "language": "python",
   "name": "python3"
  },
  "language_info": {
   "codemirror_mode": {
    "name": "ipython",
    "version": 3
   },
   "file_extension": ".py",
   "mimetype": "text/x-python",
   "name": "python",
   "nbconvert_exporter": "python",
   "pygments_lexer": "ipython3",
   "version": "3.12.1"
  }
 },
 "nbformat": 4,
 "nbformat_minor": 4
}
