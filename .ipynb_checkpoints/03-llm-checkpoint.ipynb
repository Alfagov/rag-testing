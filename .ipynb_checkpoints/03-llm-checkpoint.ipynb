{
 "cells": [
  {
   "cell_type": "code",
   "execution_count": 1,
   "metadata": {
    "ExecuteTime": {
     "end_time": "2024-02-10T14:29:10.876638526Z",
     "start_time": "2024-02-10T14:29:08.286627526Z"
    }
   },
   "outputs": [],
   "source": [
    "from setup_llm import load_llm, embed_model\n",
    "from llama_index.node_parser import CodeSplitter\n",
    "from llama_index.retrievers import AutoMergingRetriever\n",
    "from llama_index.query_engine import RetrieverQueryEngine\n",
    "from llama_index.indices.postprocessor import SentenceTransformerRerank\n",
    "from llama_index import load_index_from_storage, get_response_synthesizer,StorageContext, ServiceContext"
   ]
  },
  {
   "cell_type": "code",
   "execution_count": 2,
   "metadata": {
    "ExecuteTime": {
     "end_time": "2024-02-10T14:29:14.392998665Z",
     "start_time": "2024-02-10T14:29:14.386140089Z"
    }
   },
   "outputs": [],
   "source": [
    "def get_code_parser(language=\"go\"):\n",
    "    return CodeSplitter.from_defaults(\n",
    "        language=language,\n",
    "    )\n",
    "    \n",
    "def get_auto_merging_ctx_code(llm, language=\"go\"):\n",
    "    return ServiceContext.from_defaults(\n",
    "        llm=llm,\n",
    "        embed_model=embed_model,\n",
    "        node_parser=get_code_parser(language=language),\n",
    "    )"
   ]
  },
  {
   "cell_type": "code",
   "execution_count": null,
   "metadata": {
    "is_executing": true,
    "ExecuteTime": {
     "start_time": "2024-02-10T14:29:17.408000449Z"
    }
   },
   "outputs": [
    {
     "data": {
      "text/plain": "Loading checkpoint shards:   0%|          | 0/8 [00:00<?, ?it/s]",
      "application/vnd.jupyter.widget-view+json": {
       "version_major": 2,
       "version_minor": 0,
       "model_id": "e69c06707a3e4737acd9dc6adad2ff51"
      }
     },
     "metadata": {},
     "output_type": "display_data"
    }
   ],
   "source": [
    "llm = load_llm()\n",
    "code_automerging_idx = get_auto_merging_ctx_code(llm)\n",
    "\n",
    "automerging_index = load_index_from_storage(\n",
    "        StorageContext.from_defaults(persist_dir=\"./merging_index_c\"),\n",
    "        service_context=code_automerging_idx,\n",
    "    )"
   ]
  },
  {
   "cell_type": "code",
   "execution_count": 8,
   "metadata": {},
   "outputs": [],
   "source": [
    "automerging_retriver = automerging_index.as_retriever(\n",
    "    similarity_top_k=12,\n",
    ")\n",
    "\n",
    "retriever = AutoMergingRetriever(\n",
    "    automerging_retriver,\n",
    "    automerging_index.storage_context,\n",
    "    verbose=True,\n",
    ")\n",
    "\n",
    "response_synthesizer = get_response_synthesizer(service_context=code_automerging_idx)\n",
    "\n",
    "rerank = SentenceTransformerRerank(top_n=6, model=\"BAAI/bge-reranker-base\")"
   ]
  },
  {
   "cell_type": "code",
   "execution_count": 11,
   "metadata": {},
   "outputs": [],
   "source": [
    "query_engine = RetrieverQueryEngine(\n",
    "    retriever,\n",
    "    response_synthesizer=response_synthesizer,\n",
    "    node_postprocessors=[rerank],\n",
    ")"
   ]
  },
  {
   "cell_type": "code",
   "execution_count": 13,
   "metadata": {},
   "outputs": [
    {
     "name": "stderr",
     "output_type": "stream",
     "text": [
      "Setting `pad_token_id` to `eos_token_id`:2 for open-end generation.\n"
     ]
    },
    {
     "data": {
      "text/markdown": [
       "**`Final Response:`** The context information provided in the excerpts mentions several setters available for widgets that display numeric values, including SetNumericUpdateHandler, SetNumericInitValue, SetNumericUnit, and SetNumericUnitAfter. These setters allow for customization of the update handler, initial value, unit of measurement, and position of the unit in relation to the numeric value, respectively. The setters are provided as functions that can be passed to the widget as configuration parameters, and they are used to set the corresponding properties of the widget. The setters are part of the `numeric` package in Go's package numeric, which is used for creating and customizing numeric widgets with interactive data display capabilities."
      ],
      "text/plain": [
       "<IPython.core.display.Markdown object>"
      ]
     },
     "metadata": {},
     "output_type": "display_data"
    }
   ],
   "source": [
    "response = query_engine.query(\n",
    "    \"What are the setters available for widgets that diapley numeric values?\"\n",
    ")\n",
    "\n",
    "from llama_index.response.notebook_utils import display_response\n",
    "display_response(response)"
   ]
  },
  {
   "cell_type": "code",
   "execution_count": 16,
   "metadata": {},
   "outputs": [],
   "source": [
    "from llama_index.chat_engine.condense_question import (\n",
    "    CondenseQuestionChatEngine,\n",
    ")\n",
    "\n",
    "chat_engine = CondenseQuestionChatEngine.from_defaults(\n",
    "    query_engine=query_engine,\n",
    "    llm=llm,\n",
    "    verbose=True,\n",
    ")"
   ]
  },
  {
   "cell_type": "code",
   "execution_count": 17,
   "metadata": {},
   "outputs": [
    {
     "name": "stderr",
     "output_type": "stream",
     "text": [
      "/home/alfagov/anaconda3/envs/rag/lib/python3.12/site-packages/transformers/generation/configuration_utils.py:392: UserWarning: `do_sample` is set to `False`. However, `temperature` is set to `0.7` -- this flag is only used in sample-based generation modes. You should set `do_sample=True` or unset `temperature`.\n",
      "  warnings.warn(\n",
      "/home/alfagov/anaconda3/envs/rag/lib/python3.12/site-packages/transformers/generation/configuration_utils.py:397: UserWarning: `do_sample` is set to `False`. However, `top_p` is set to `0.95` -- this flag is only used in sample-based generation modes. You should set `do_sample=True` or unset `top_p`.\n",
      "  warnings.warn(\n",
      "Setting `pad_token_id` to `eos_token_id`:2 for open-end generation.\n",
      "Setting `pad_token_id` to `eos_token_id`:2 for open-end generation.\n"
     ]
    },
    {
     "name": "stdout",
     "output_type": "stream",
     "text": [
      "Querying with: In the context of discussing widgets that display numeric values, what setters are available to customize their display?\n"
     ]
    },
    {
     "name": "stderr",
     "output_type": "stream",
     "text": [
      "Setting `pad_token_id` to `eos_token_id`:2 for open-end generation.\n"
     ]
    },
    {
     "data": {
      "text/markdown": [
       "**`Final Response:`** In the context of discussing widgets that display numeric values, the available setters to customize their display include:\n",
       "\n",
       "1. SetNumericUpdateHandler: This setter allows you to provide a function that returns the updated value and error for the numeric widget. This function is called when the widget needs to update its value, and it should return the new value and any errors that occurred during the update.\n",
       "\n",
       "2. SetNumericInitValue: This setter allows you to provide an integer value as the initial value for the numeric widget. This value is displayed when the widget is first loaded.\n",
       "\n",
       "3. SetNumericUnit: This setter allows you to provide a string representation of the measurement unit to be displayed alongside the numeric value. This unit helps to provide context and make the value more meaningful to the user.\n",
       "\n",
       "4. SetNumericUnitAfter: This setter allows you to toggle the position of the unit to follow the numeric value. By default, the unit is displayed after the value, but you can set this setter to `true` to display the unit before the value.\n",
       "\n",
       "These setters can be used to customize the behavior and appearance of numeric widgets, such as"
      ],
      "text/plain": [
       "<IPython.core.display.Markdown object>"
      ]
     },
     "metadata": {},
     "output_type": "display_data"
    }
   ],
   "source": [
    "resp = chat_engine.chat(\"What are the setters available for widgets that diapley numeric values?\")\n",
    "display_response(resp)"
   ]
  },
  {
   "cell_type": "code",
   "execution_count": 18,
   "metadata": {},
   "outputs": [
    {
     "name": "stderr",
     "output_type": "stream",
     "text": [
      "Setting `pad_token_id` to `eos_token_id`:2 for open-end generation.\n",
      "Setting `pad_token_id` to `eos_token_id`:2 for open-end generation.\n"
     ]
    },
    {
     "name": "stdout",
     "output_type": "stream",
     "text": [
      "Querying with: What setter is responsible for defining the logic for updating the value displayed by widgets that display numeric values?\n"
     ]
    },
    {
     "name": "stderr",
     "output_type": "stream",
     "text": [
      "Setting `pad_token_id` to `eos_token_id`:2 for open-end generation.\n"
     ]
    },
    {
     "data": {
      "text/markdown": [
       "**`Final Response:`** The setter responsible for defining the logic for updating the value displayed by widgets that display numeric values using the NumericWidget function is the `setUpdateHandler` method in the `numeric` struct. This method takes a handler function that returns an integer value and an error as arguments, and assigns it to the `updateHandler` field of the `numeric` struct. This handler function is called when the widget needs to update its value, and it should return the new value and any errors that occur during the update process. By customizing the `updateHandler` function, developers can provide unique features and preferences for displaying numerical data, such as dynamic updates, custom themes, and layout options provided by goDashboard's Layout package. This integration enhances the user experience and makes the data more intuitive and user-friendly."
      ],
      "text/plain": [
       "<IPython.core.display.Markdown object>"
      ]
     },
     "metadata": {},
     "output_type": "display_data"
    }
   ],
   "source": [
    "resp = chat_engine.chat(\"Which one defines the logic for updating the value displayed by the widget?\")\n",
    "display_response(resp)"
   ]
  },
  {
   "cell_type": "code",
   "execution_count": null,
   "metadata": {},
   "outputs": [],
   "source": []
  }
 ],
 "metadata": {
  "kernelspec": {
   "display_name": "rag",
   "language": "python",
   "name": "python3"
  },
  "language_info": {
   "codemirror_mode": {
    "name": "ipython",
    "version": 3
   },
   "file_extension": ".py",
   "mimetype": "text/x-python",
   "name": "python",
   "nbconvert_exporter": "python",
   "pygments_lexer": "ipython3",
   "version": "3.12.1"
  }
 },
 "nbformat": 4,
 "nbformat_minor": 2
}
